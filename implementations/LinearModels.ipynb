{
 "cells": [
  {
   "cell_type": "code",
   "execution_count": 1,
   "id": "25aaccff",
   "metadata": {},
   "outputs": [],
   "source": [
    "import numpy as np\n",
    "import pandas as pd\n",
    "import seaborn as sns\n",
    "import matplotlib.pyplot as plt\n",
    "from sklearn.linear_model import LinearRegression"
   ]
  },
  {
   "cell_type": "code",
   "execution_count": 2,
   "id": "e825fa2f",
   "metadata": {},
   "outputs": [],
   "source": [
    "sns.set(rc={'figure.figsize':(8,6)})"
   ]
  },
  {
   "cell_type": "markdown",
   "id": "8493a654",
   "metadata": {},
   "source": [
    "### Prepare some data"
   ]
  },
  {
   "cell_type": "code",
   "execution_count": 3,
   "id": "51b13356",
   "metadata": {},
   "outputs": [],
   "source": [
    "X = 2 * np.random.rand(100, 1)\n",
    "y = 4 + 3 * X + np.random.randn(100, 1)"
   ]
  },
  {
   "cell_type": "code",
   "execution_count": 4,
   "id": "74561cf2",
   "metadata": {},
   "outputs": [
    {
     "data": {
      "text/plain": [
       "<AxesSubplot:xlabel='X', ylabel='Y'>"
      ]
     },
     "execution_count": 4,
     "metadata": {},
     "output_type": "execute_result"
    },
    {
     "data": {
      "image/png": "[encoded data removed]",
      "text/plain": [
       "<Figure size 576x432 with 1 Axes>"
      ]
     },
     "metadata": {},
     "output_type": "display_data"
    }
   ],
   "source": [
    "data = pd.DataFrame({\"X\": X.T[0], \"Y\": y.T[0]})\n",
    "sns.scatterplot(data=data, x=\"X\", y=\"Y\")"
   ]
  },
  {
   "cell_type": "markdown",
   "id": "4c1cd45e",
   "metadata": {},
   "source": [
    "### Normal Equation\n",
    "\n",
    "$\\beta = (X^{T}X)^{-1}X^{T}y$"
   ]
  },
  {
   "cell_type": "code",
   "execution_count": 5,
   "id": "52fdd043",
   "metadata": {},
   "outputs": [],
   "source": [
    "X_b = np.c_[np.ones((100, 1)), X]"
   ]
  },
  {
   "cell_type": "code",
   "execution_count": 6,
   "id": "8b1f3eea",
   "metadata": {},
   "outputs": [
    {
     "data": {
      "text/plain": [
       "array([[4.10250382],\n",
       "       [2.98843616]])"
      ]
     },
     "execution_count": 6,
     "metadata": {},
     "output_type": "execute_result"
    }
   ],
   "source": [
    "beta_best = np.linalg.inv(X_b.T.dot(X_b)).dot(X_b.T).dot(y)\n",
    "beta_best"
   ]
  },
  {
   "cell_type": "code",
   "execution_count": 7,
   "id": "ceeec4f1",
   "metadata": {},
   "outputs": [
    {
     "data": {
      "text/plain": [
       "array([[ 4.10250382],\n",
       "       [10.07937615]])"
      ]
     },
     "execution_count": 7,
     "metadata": {},
     "output_type": "execute_result"
    }
   ],
   "source": [
    "X_pred = np.array([[0], [2]])\n",
    "X_pred = np.c_[np.ones((2, 1)), X_pred]\n",
    "y_pred = X_pred.dot(beta_best)\n",
    "y_pred"
   ]
  },
  {
   "cell_type": "code",
   "execution_count": 48,
   "id": "a8307027",
   "metadata": {},
   "outputs": [
    {
     "data": {
      "text/plain": [
       "[<matplotlib.lines.Line2D at 0x7fba128e0c10>]"
      ]
     },
     "execution_count": 48,
     "metadata": {},
     "output_type": "execute_result"
    },
    {
     "data": {
      "image/png": "[encoded data removed]",
      "text/plain": [
       "<Figure size 576x432 with 1 Axes>"
      ]
     },
     "metadata": {},
     "output_type": "display_data"
    }
   ],
   "source": [
    "plt.plot(X_pred, y_pred)\n",
    "plt.plot(X, y, \"b. \")"
   ]
  },
  {
   "cell_type": "markdown",
   "id": "6e9e9948",
   "metadata": {},
   "source": [
    "### sklearn implementation of Linear regression"
   ]
  },
  {
   "cell_type": "code",
   "execution_count": 9,
   "id": "c39ab48e",
   "metadata": {
    "scrolled": true
   },
   "outputs": [
    {
     "data": {
      "text/plain": [
       "(array([4.10250382]), array([[2.98843616]]))"
      ]
     },
     "execution_count": 9,
     "metadata": {},
     "output_type": "execute_result"
    }
   ],
   "source": [
    "lin_reg = LinearRegression()\n",
    "lin_reg.fit(X, y)\n",
    "lin_reg.intercept_, lin_reg.coef_"
   ]
  },
  {
   "cell_type": "code",
   "execution_count": 10,
   "id": "e20a021c",
   "metadata": {},
   "outputs": [
    {
     "data": {
      "text/plain": [
       "array([[1., 0.],\n",
       "       [1., 2.]])"
      ]
     },
     "execution_count": 10,
     "metadata": {},
     "output_type": "execute_result"
    }
   ],
   "source": [
    "X_pred"
   ]
  },
  {
   "cell_type": "code",
   "execution_count": 11,
   "id": "119b2296",
   "metadata": {},
   "outputs": [
    {
     "data": {
      "text/plain": [
       "array([[ 4.10250382],\n",
       "       [10.07937615]])"
      ]
     },
     "execution_count": 11,
     "metadata": {},
     "output_type": "execute_result"
    }
   ],
   "source": [
    "X_pred = np.array([[0], [2]])\n",
    "lin_reg.predict(X_pred)"
   ]
  },
  {
   "cell_type": "markdown",
   "id": "0c243461",
   "metadata": {},
   "source": [
    "### numpy implementation of Least Squares\n",
    "This is using the Moore-Penrose pseudoinverse"
   ]
  },
  {
   "cell_type": "code",
   "execution_count": 12,
   "id": "ff584365",
   "metadata": {},
   "outputs": [
    {
     "data": {
      "text/plain": [
       "array([[4.10250382],\n",
       "       [2.98843616]])"
      ]
     },
     "execution_count": 12,
     "metadata": {},
     "output_type": "execute_result"
    }
   ],
   "source": [
    "np.linalg.lstsq(X_b, y, rcond=1e-6)[0]"
   ]
  },
  {
   "cell_type": "code",
   "execution_count": 13,
   "id": "dfedbc57",
   "metadata": {
    "scrolled": true
   },
   "outputs": [
    {
     "data": {
      "text/plain": [
       "array([[4.10250382],\n",
       "       [2.98843616]])"
      ]
     },
     "execution_count": 13,
     "metadata": {},
     "output_type": "execute_result"
    }
   ],
   "source": [
    "np.linalg.pinv(X_b).dot(y)"
   ]
  },
  {
   "cell_type": "markdown",
   "id": "82da5cdc",
   "metadata": {},
   "source": [
    "### Gradient descent - matrix form"
   ]
  },
  {
   "cell_type": "code",
   "execution_count": 21,
   "id": "f50a8d4c",
   "metadata": {},
   "outputs": [
    {
     "data": {
      "text/plain": [
       "array([[4.10250382],\n",
       "       [2.98843616]])"
      ]
     },
     "execution_count": 21,
     "metadata": {},
     "output_type": "execute_result"
    }
   ],
   "source": [
    "alpha = 0.1\n",
    "iterations = 1000\n",
    "n = 100\n",
    "beta = np.random.randn(2, 1)\n",
    "for _ in range(iterations):\n",
    "    gradient = 2/n*X_b.T.dot(X_b.dot(beta) - y)\n",
    "    beta = beta - alpha * gradient\n",
    "beta"
   ]
  },
  {
   "cell_type": "markdown",
   "id": "0cc45498",
   "metadata": {},
   "source": [
    "### Stochastic gradient descent"
   ]
  },
  {
   "cell_type": "code",
   "execution_count": 42,
   "id": "e8c28aae",
   "metadata": {},
   "outputs": [
    {
     "data": {
      "text/plain": [
       "array([[4.19837199],\n",
       "       [2.80611878]])"
      ]
     },
     "execution_count": 42,
     "metadata": {},
     "output_type": "execute_result"
    }
   ],
   "source": [
    "epochs = 100\n",
    "n = 100\n",
    "t0, t1 = 5, 50\n",
    "\n",
    "def learning_schedule(t):\n",
    "    return t0/(t + t1)\n",
    "\n",
    "beta = np.random.randn(2, 1)\n",
    "for epoch in range(epochs):\n",
    "    for _ in range(n):\n",
    "        random_index = np.random.randint(n)\n",
    "        xi = X_b[random_index: random_index + 1]\n",
    "        yi = y[random_index: random_index + 1]\n",
    "        gradient = 2 * xi.T.dot(xi.dot(beta) - yi)\n",
    "        beta = beta - learning_schedule(epoch) * gradient\n",
    "beta"
   ]
  },
  {
   "cell_type": "markdown",
   "id": "c64564dc",
   "metadata": {},
   "source": [
    "### Stochastic gradient descent using sklearn"
   ]
  },
  {
   "cell_type": "code",
   "execution_count": 43,
   "id": "adbd974a",
   "metadata": {},
   "outputs": [
    {
     "data": {
      "text/plain": [
       "(array([4.13091793]), array([3.02047177]))"
      ]
     },
     "execution_count": 43,
     "metadata": {},
     "output_type": "execute_result"
    }
   ],
   "source": [
    "from sklearn.linear_model import SGDRegressor\n",
    "\n",
    "sgd_reg = SGDRegressor(max_iter=1000, tol=1e-3, penalty=None, eta0=0.1)\n",
    "sgd_reg.fit(X, y.ravel())\n",
    "sgd_reg.intercept_, sgd_reg.coef_"
   ]
  }
 ],
 "metadata": {
  "kernelspec": {
   "display_name": "Python 3 (ipykernel)",
   "language": "python",
   "name": "python3"
  },
  "language_info": {
   "codemirror_mode": {
    "name": "ipython",
    "version": 3
   },
   "file_extension": ".py",
   "mimetype": "text/x-python",
   "name": "python",
   "nbconvert_exporter": "python",
   "pygments_lexer": "ipython3",
   "version": "3.9.6"
  }
 },
 "nbformat": 4,
 "nbformat_minor": 5
}

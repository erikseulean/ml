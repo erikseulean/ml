{
 "cells": [
  {
   "cell_type": "code",
   "execution_count": 2,
   "id": "36eea7c8",
   "metadata": {},
   "outputs": [],
   "source": [
    "import seaborn as sns\n",
    "import numpy as np\n",
    "from math import exp\n",
    "from sklearn import datasets\n",
    "from sklearn.linear_model import LogisticRegression"
   ]
  },
  {
   "cell_type": "code",
   "execution_count": 3,
   "id": "ae509dd1",
   "metadata": {},
   "outputs": [
    {
     "data": {
      "text/plain": [
       "['data',\n",
       " 'target',\n",
       " 'frame',\n",
       " 'target_names',\n",
       " 'DESCR',\n",
       " 'feature_names',\n",
       " 'filename',\n",
       " 'data_module']"
      ]
     },
     "execution_count": 3,
     "metadata": {},
     "output_type": "execute_result"
    }
   ],
   "source": [
    "iris = datasets.load_iris()\n",
    "list(iris.keys())"
   ]
  },
  {
   "cell_type": "code",
   "execution_count": 4,
   "id": "b3d57e85",
   "metadata": {},
   "outputs": [],
   "source": [
    "X = iris[\"data\"][:, 3:] # petal width\n",
    "y = (iris[\"target\"] == 2).astype(int)"
   ]
  },
  {
   "cell_type": "code",
   "execution_count": 13,
   "id": "8d600f17",
   "metadata": {},
   "outputs": [
    {
     "data": {
      "text/plain": [
       "array([[-6.95820712],\n",
       "       [ 4.26915633]])"
      ]
     },
     "execution_count": 13,
     "metadata": {},
     "output_type": "execute_result"
    }
   ],
   "source": [
    "alpha = 0.1\n",
    "iterations = 1500\n",
    "n = 100\n",
    "beta = np.random.randn(2, 1)\n",
    "X_b = np.c_[np.ones((len(X), 1)), X]\n",
    "y_b = y[..., None]\n",
    "gradient = None\n",
    "for _ in range(iterations):\n",
    "    gradient = 1/n * X_b.T.dot((1/(1 + np.exp(-X_b.dot(beta)))) - y_b)\n",
    "    beta = beta - alpha * gradient\n",
    "beta"
   ]
  },
  {
   "cell_type": "markdown",
   "id": "fa7ad649",
   "metadata": {},
   "source": [
    "### Stochastic gradient descent for logistic regression"
   ]
  },
  {
   "cell_type": "code",
   "execution_count": 19,
   "id": "0164caec",
   "metadata": {},
   "outputs": [
    {
     "data": {
      "text/plain": [
       "array([[-7.5061911 ],\n",
       "       [ 4.60085129]])"
      ]
     },
     "execution_count": 19,
     "metadata": {},
     "output_type": "execute_result"
    }
   ],
   "source": [
    "alpha = 0.1\n",
    "iterations = 7000\n",
    "beta = np.random.randn(2, 1)\n",
    "X_b = np.c_[np.ones((len(X), 1)), X]\n",
    "y_b = y[..., None]\n",
    "gradient = None\n",
    "\n",
    "epochs = 100\n",
    "t0, t1 = 5, 50\n",
    "\n",
    "def learning_schedule(t):\n",
    "    return t0/(t + t1)\n",
    "\n",
    "for epoch in range(epochs):\n",
    "    for _ in range(iterations):\n",
    "        index = np.random.randint(len(X_b))\n",
    "        xi = X_b[index: index+1]\n",
    "        yi = y_b[index: index+1]\n",
    "        gradient = 1/len(X) * xi.T.dot((1/(1 + np.exp(-xi.dot(beta)))) - yi)\n",
    "        beta = beta - learning_schedule(epoch) * gradient\n",
    "beta"
   ]
  },
  {
   "cell_type": "code",
   "execution_count": 8,
   "id": "770a0683",
   "metadata": {},
   "outputs": [
    {
     "data": {
      "text/plain": [
       "(array([-7.1947083]), array([[4.3330846]]))"
      ]
     },
     "execution_count": 8,
     "metadata": {},
     "output_type": "execute_result"
    }
   ],
   "source": [
    "log_reg = LogisticRegression()\n",
    "log_reg.fit(X, y)\n",
    "log_reg.intercept_, log_reg.coef_"
   ]
  }
 ],
 "metadata": {
  "kernelspec": {
   "display_name": "Python 3 (ipykernel)",
   "language": "python",
   "name": "python3"
  },
  "language_info": {
   "codemirror_mode": {
    "name": "ipython",
    "version": 3
   },
   "file_extension": ".py",
   "mimetype": "text/x-python",
   "name": "python",
   "nbconvert_exporter": "python",
   "pygments_lexer": "ipython3",
   "version": "3.9.6"
  }
 },
 "nbformat": 4,
 "nbformat_minor": 5
}
